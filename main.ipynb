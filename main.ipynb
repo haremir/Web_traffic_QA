{
 "cells": [
  {
   "cell_type": "code",
   "execution_count": 2,
   "metadata": {},
   "outputs": [],
   "source": [
    "# Gerekli kütüphaneleri yükleyin\n",
    "import pandas as pd\n",
    "import re"
   ]
  },
  {
   "cell_type": "code",
   "execution_count": 11,
   "metadata": {},
   "outputs": [
    {
     "name": "stdout",
     "output_type": "stream",
     "text": [
      "                IP                   Timestamp  Method             Endpoint  \\\n",
      "0      32.32.61.41  05/Jun/2001:03:32:13 +0000    POST               /about   \n",
      "1     31.156.84.68  31/Aug/1996:05:06:28 +0000    POST              /signup   \n",
      "2  111.224.206.188  26/Dec/1974:05:31:04 +0000     PUT  /products/item?id=2   \n",
      "3       3.35.216.7  08/Apr/2023:10:38:31 +0000    POST            /products   \n",
      "4    43.163.88.139  02/Jul/2020:17:50:02 +0000  DELETE               /login   \n",
      "5   14.177.206.174  16/Aug/1985:06:05:49 +0000     PUT  /products/item?id=1   \n",
      "6   152.231.83.225  18/Sep/1979:16:15:04 +0000    POST              /signup   \n",
      "7   151.40.216.114  08/May/1979:18:36:27 +0000    POST                /home   \n",
      "8     27.9.236.143  05/Sep/2002:09:04:22 +0000  DELETE               /about   \n",
      "9     22.156.71.77  06/Jun/1975:06:37:42 +0000    POST            /products   \n",
      "\n",
      "  Status  Size  \n",
      "0    301  1363  \n",
      "1    200  2512  \n",
      "2    500  1154  \n",
      "3    200  2962  \n",
      "4    500   207  \n",
      "5    200  2180  \n",
      "6    301   429  \n",
      "7    301   525  \n",
      "8    500   217  \n",
      "9    301   537  \n"
     ]
    }
   ],
   "source": [
    "# pandasın ayarlarını güncelleyerek her kolonu ve ilk 10 satırını vermesini sağlıyoruz\n",
    "pd.set_option('display.max_columns', None)  # Tüm kolonları göster\n",
    "pd.set_option('display.max_rows', 10)  # Her kolonun ilk 10 satırını göster\n",
    "\n",
    "# Log dosyasını yükleyin\n",
    "file_path = './web_traffic.log'\n",
    "with open(file_path, 'r') as file:\n",
    "    logs = file.readlines()\n",
    "\n",
    "# Log verilerini DataFrame'e dönüştür\n",
    "def parse_log(log_line):\n",
    "    # Log formatına uygun düzenli ifadeyi kullanarak verileri ayır\n",
    "    pattern = r'(\\S+) - - \\[(.*?)\\] \"(\\S+) (\\S+) HTTP/1.1\" (\\d+) (\\d+)'\n",
    "    match = re.match(pattern, log_line)\n",
    "    if match:\n",
    "        ip, timestamp, method, endpoint, status, size = match.groups()\n",
    "        return ip, timestamp, method, endpoint, status, size\n",
    "    return None\n",
    "\n",
    "# Verileri ayıklama ve DataFrame oluşturma\n",
    "data = [parse_log(line) for line in logs]\n",
    "df = pd.DataFrame(data, columns=['IP', 'Timestamp', 'Method', 'Endpoint', 'Status', 'Size'])\n",
    "\n",
    "# İlk birkaç satırı görüntüle\n",
    "print(df.head(10))\n"
   ]
  },
  {
   "cell_type": "markdown",
   "metadata": {},
   "source": [
    "# Web Trafik Logları Veri Açıklaması\n",
    "\n",
    "Bu belgede, web trafik loglarının içerdiği kolonlar ve verilerin detayları açıklanacaktır.\n",
    "\n",
    "## Veri Seti Kolonları\n",
    "\n",
    "### 1. **IP**\n",
    "- **Açıklama:** Web isteğini yapan istemcinin IP adresi.\n",
    "- **Örnek:** `32.32.61.41`\n",
    "- **Tür:** String\n",
    "\n",
    "### 2. **Timestamp**\n",
    "- **Açıklama:** Web isteğinin yapıldığı tarih ve saat.\n",
    "- **Format:** `[dd/mmm/yyyy:hh:mm:ss +0000]`\n",
    "- **Örnek:** `05/Jun/2001:03:32:13 +0000`\n",
    "- **Tür:** String (Daha sonra tarih/zaman formatına dönüştürülecek)\n",
    "\n",
    "### 3. **Method**\n",
    "- **Açıklama:** Web isteğinde kullanılan HTTP yöntemi.\n",
    "- **Değerler:** `GET`, `POST`, `PUT`, `DELETE`, vb.\n",
    "- **Örnek:** `POST`\n",
    "- **Tür:** String\n",
    "\n",
    "### 4. **Endpoint**\n",
    "- **Açıklama:** Web isteğinin yapıldığı URL'nin yolu.\n",
    "- **Örnek:** `/about`, `/signup`, `/products/item?id=2`\n",
    "- **Tür:** String\n",
    "\n",
    "### 5. **Status**\n",
    "- **Açıklama:** Web isteğine verilen HTTP yanıt durumu kodu.\n",
    "- **Değerler:** `200` (Başarılı), `301` (Kalıcı Yönlendirme), `500` (Sunucu Hatası), vb.\n",
    "- **Örnek:** `301`\n",
    "- **Tür:** Integer\n",
    "\n",
    "### 6. **Size**\n",
    "- **Açıklama:** Web isteği yanıtının boyutu (bayt cinsinden).\n",
    "- **Örnek:** `1363`, `2512`\n",
    "- **Tür:** Integer\n"
   ]
  },
  {
   "cell_type": "code",
   "execution_count": 12,
   "metadata": {},
   "outputs": [
    {
     "name": "stdout",
     "output_type": "stream",
     "text": [
      "(10000, 6)\n",
      "Index(['IP', 'Timestamp', 'Method', 'Endpoint', 'Status', 'Size'], dtype='object')\n"
     ]
    },
    {
     "data": {
      "text/plain": [
       "IP           0\n",
       "Timestamp    0\n",
       "Method       0\n",
       "Endpoint     0\n",
       "Status       0\n",
       "Size         0\n",
       "dtype: int64"
      ]
     },
     "execution_count": 12,
     "metadata": {},
     "output_type": "execute_result"
    }
   ],
   "source": [
    "print(df.shape)\n",
    "print(df.columns)\n",
    "df.isnull().sum()"
   ]
  },
  {
   "cell_type": "code",
   "execution_count": 13,
   "metadata": {},
   "outputs": [
    {
     "data": {
      "text/plain": [
       "IP           10000\n",
       "Timestamp    10000\n",
       "Method           4\n",
       "Endpoint         9\n",
       "Status           4\n",
       "Size          4209\n",
       "dtype: int64"
      ]
     },
     "execution_count": 13,
     "metadata": {},
     "output_type": "execute_result"
    }
   ],
   "source": [
    "df.nunique()"
   ]
  }
 ],
 "metadata": {
  "kernelspec": {
   "display_name": "Python 3",
   "language": "python",
   "name": "python3"
  },
  "language_info": {
   "codemirror_mode": {
    "name": "ipython",
    "version": 3
   },
   "file_extension": ".py",
   "mimetype": "text/x-python",
   "name": "python",
   "nbconvert_exporter": "python",
   "pygments_lexer": "ipython3",
   "version": "3.9.1"
  }
 },
 "nbformat": 4,
 "nbformat_minor": 2
}
